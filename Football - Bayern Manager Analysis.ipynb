{
 "cells": [
  {
   "cell_type": "markdown",
   "id": "d137ed09-3534-4a17-9849-a9e2778a8530",
   "metadata": {},
   "source": [
    "# Objective\n",
    "\n",
    "I want to see how well managers performed at Bayern in the last few years, as there has been a lot of turnover. To do so, I want to scrape match results from the last few seasons from FBREF, and calculate maybe points/game for each month and see how this fluctuates."
   ]
  },
  {
   "cell_type": "markdown",
   "id": "71e8ed63-7bae-4175-b4df-11b52cc0f970",
   "metadata": {},
   "source": [
    "---"
   ]
  },
  {
   "cell_type": "markdown",
   "id": "619e9adf-9f75-4cb3-995a-355dbbb897e6",
   "metadata": {},
   "source": [
    "# Import libraries"
   ]
  },
  {
   "cell_type": "code",
   "execution_count": 1,
   "id": "4231351a-3284-44ac-a437-49ac4ed4209f",
   "metadata": {},
   "outputs": [],
   "source": [
    "from selenium import webdriver\n",
    "from selenium.webdriver.common.by import By\n",
    "from selenium.webdriver.support.ui import WebDriverWait\n",
    "from selenium.webdriver.support import expected_conditions as EC\n",
    "\n",
    "import pandas as pd\n",
    "\n",
    "from io import StringIO\n",
    "\n",
    "import matplotlib.pyplot as plt\n",
    "import seaborn as sns"
   ]
  },
  {
   "cell_type": "markdown",
   "id": "3dba222a-60c5-4ce7-8eac-e5f874827d62",
   "metadata": {},
   "source": [
    "---"
   ]
  },
  {
   "cell_type": "markdown",
   "id": "21168ea2-fd10-4f1b-bdd1-397da2649491",
   "metadata": {},
   "source": [
    "# Obtaining Match Data from FBREF"
   ]
  },
  {
   "cell_type": "markdown",
   "id": "765cb99f-0551-4f86-b174-956c995bf449",
   "metadata": {},
   "source": [
    "`Selenium` will be used to obtain data from FBREF, specifically from pages like this for each season: \n",
    "\n",
    "https://fbref.com/en/squads/054efa67/2023-2024/matchlogs/all_comps/schedule/Bayern-Munich-Scores-and-Fixtures-All-Competitions\n",
    "\n",
    "The first table on that page will be scraped, before clicking the \"<<Previous Season\" button and repeating for the previous season. This will be done for the previous 10 seasons."
   ]
  },
  {
   "cell_type": "code",
   "execution_count": 2,
   "id": "0cef9784-6261-47d7-a0c3-02ad62d5700c",
   "metadata": {},
   "outputs": [],
   "source": [
    "# Initialise final data frame:\n",
    "df = pd.DataFrame()\n",
    "\n",
    "# Use driver to open the first page in a browser:\n",
    "driver = webdriver.Chrome()\n",
    "driver.get(\"https://fbref.com/en/squads/054efa67/Bayern-Munich-Stats\")\n",
    "\n",
    "# Iterate for last 10 seasons:\n",
    "for i in range(10):\n",
    "# Close the cookies popup for the first iteration:\n",
    "    if i == 0:\n",
    "        cookies_button_appears = WebDriverWait(driver, 10).until(EC.presence_of_element_located((By.XPATH, \"/html/body/div[1]/div/div/div/div[2]/div/button[2]\")))\n",
    "        decline_cookies_button = driver.find_element(by=By.XPATH, value=\"/html/body/div[1]/div/div/div/div[2]/div/button[2]\")\n",
    "        decline_cookies_button.click()\n",
    "# On the fifth iteration, another popup appears:\n",
    "    elif i == 5:\n",
    "        popup_appears = WebDriverWait(driver, 10).until(EC.presence_of_element_located((By.XPATH, '//*[@id=\"modal-container\"]')))\n",
    "        popup_x = driver.find_element(By.XPATH, '//*[@id=\"modal-close\"]')\n",
    "        popup_x.click()\n",
    "# If not the first iteration, need to click the \"Previous Season\" button before scraping:\n",
    "    else:\n",
    "        previous_season_button = driver.find_element(by=By.XPATH, value='//*[@id=\"meta\"]/div[2]/div/a[1]')\n",
    "        previous_season_button.click()\n",
    "\n",
    "# Scrape data and add to df:\n",
    "    seasons_table = driver.find_element(by=By.XPATH, value='//*[@id=\"matchlogs_for\"]').get_attribute('outerHTML')\n",
    "    df = pd.concat([df, pd.read_html(StringIO(seasons_table))[0]])\n",
    "\n",
    "# Remove rows including column heading, and sort by date:\n",
    "df = df[df[\"Notes\"] != \"Notes\"]\n",
    "df[\"Date\"] = pd.to_datetime(df[\"Date\"])\n",
    "df = df.sort_values(\"Date\").reset_index(drop=True)\n",
    "\n",
    "# Close browser:\n",
    "driver.close()"
   ]
  },
  {
   "cell_type": "markdown",
   "id": "5eef9af2-cc74-4b29-961b-02130427eb7e",
   "metadata": {},
   "source": [
    "View final data frame summaries:"
   ]
  },
  {
   "cell_type": "code",
   "execution_count": 3,
   "id": "cdfeb518-d292-4278-acfa-22f8f30690dd",
   "metadata": {},
   "outputs": [
    {
     "data": {
      "text/html": [
       "<div>\n",
       "<style scoped>\n",
       "    .dataframe tbody tr th:only-of-type {\n",
       "        vertical-align: middle;\n",
       "    }\n",
       "\n",
       "    .dataframe tbody tr th {\n",
       "        vertical-align: top;\n",
       "    }\n",
       "\n",
       "    .dataframe thead th {\n",
       "        text-align: right;\n",
       "    }\n",
       "</style>\n",
       "<table border=\"1\" class=\"dataframe\">\n",
       "  <thead>\n",
       "    <tr style=\"text-align: right;\">\n",
       "      <th></th>\n",
       "      <th>Date</th>\n",
       "      <th>Time</th>\n",
       "      <th>Comp</th>\n",
       "      <th>Round</th>\n",
       "      <th>Day</th>\n",
       "      <th>Venue</th>\n",
       "      <th>Result</th>\n",
       "      <th>GF</th>\n",
       "      <th>GA</th>\n",
       "      <th>Opponent</th>\n",
       "      <th>xG</th>\n",
       "      <th>xGA</th>\n",
       "      <th>Poss</th>\n",
       "      <th>Attendance</th>\n",
       "      <th>Captain</th>\n",
       "      <th>Formation</th>\n",
       "      <th>Referee</th>\n",
       "      <th>Match Report</th>\n",
       "      <th>Notes</th>\n",
       "    </tr>\n",
       "  </thead>\n",
       "  <tbody>\n",
       "    <tr>\n",
       "      <th>0</th>\n",
       "      <td>2015-08-01</td>\n",
       "      <td>20:30 (19:30)</td>\n",
       "      <td>DFL-Supercup</td>\n",
       "      <td>DFL-Supercup</td>\n",
       "      <td>Sat</td>\n",
       "      <td>Away</td>\n",
       "      <td>D</td>\n",
       "      <td>1 (4)</td>\n",
       "      <td>1 (5)</td>\n",
       "      <td>Wolfsburg</td>\n",
       "      <td>NaN</td>\n",
       "      <td>NaN</td>\n",
       "      <td>55</td>\n",
       "      <td>30000</td>\n",
       "      <td>Philipp Lahm</td>\n",
       "      <td>4-1-4-1</td>\n",
       "      <td>Marco Fritz</td>\n",
       "      <td>Match Report</td>\n",
       "      <td>NaN</td>\n",
       "    </tr>\n",
       "    <tr>\n",
       "      <th>1</th>\n",
       "      <td>2015-08-09</td>\n",
       "      <td>16:00 (15:00)</td>\n",
       "      <td>DFB-Pokal</td>\n",
       "      <td>First round</td>\n",
       "      <td>Sun</td>\n",
       "      <td>Away</td>\n",
       "      <td>W</td>\n",
       "      <td>3</td>\n",
       "      <td>1</td>\n",
       "      <td>Nöttingen</td>\n",
       "      <td>NaN</td>\n",
       "      <td>NaN</td>\n",
       "      <td>NaN</td>\n",
       "      <td>29486</td>\n",
       "      <td>Philipp Lahm</td>\n",
       "      <td>3-4-3</td>\n",
       "      <td>Robert Kampka</td>\n",
       "      <td>Match Report</td>\n",
       "      <td>NaN</td>\n",
       "    </tr>\n",
       "    <tr>\n",
       "      <th>2</th>\n",
       "      <td>2015-08-14</td>\n",
       "      <td>20:30 (19:30)</td>\n",
       "      <td>Bundesliga</td>\n",
       "      <td>Matchweek 1</td>\n",
       "      <td>Fri</td>\n",
       "      <td>Home</td>\n",
       "      <td>W</td>\n",
       "      <td>5</td>\n",
       "      <td>0</td>\n",
       "      <td>Hamburger SV</td>\n",
       "      <td>NaN</td>\n",
       "      <td>NaN</td>\n",
       "      <td>77</td>\n",
       "      <td>75000</td>\n",
       "      <td>Philipp Lahm</td>\n",
       "      <td>4-1-4-1</td>\n",
       "      <td>Bastian Dankert</td>\n",
       "      <td>Match Report</td>\n",
       "      <td>NaN</td>\n",
       "    </tr>\n",
       "    <tr>\n",
       "      <th>3</th>\n",
       "      <td>2015-08-22</td>\n",
       "      <td>15:30 (14:30)</td>\n",
       "      <td>Bundesliga</td>\n",
       "      <td>Matchweek 2</td>\n",
       "      <td>Sat</td>\n",
       "      <td>Away</td>\n",
       "      <td>W</td>\n",
       "      <td>2</td>\n",
       "      <td>1</td>\n",
       "      <td>Hoffenheim</td>\n",
       "      <td>NaN</td>\n",
       "      <td>NaN</td>\n",
       "      <td>73</td>\n",
       "      <td>30150</td>\n",
       "      <td>Philipp Lahm</td>\n",
       "      <td>3-4-3◆</td>\n",
       "      <td>Tobias Stieler</td>\n",
       "      <td>Match Report</td>\n",
       "      <td>NaN</td>\n",
       "    </tr>\n",
       "    <tr>\n",
       "      <th>4</th>\n",
       "      <td>2015-08-29</td>\n",
       "      <td>18:30 (17:30)</td>\n",
       "      <td>Bundesliga</td>\n",
       "      <td>Matchweek 3</td>\n",
       "      <td>Sat</td>\n",
       "      <td>Home</td>\n",
       "      <td>W</td>\n",
       "      <td>3</td>\n",
       "      <td>0</td>\n",
       "      <td>Leverkusen</td>\n",
       "      <td>NaN</td>\n",
       "      <td>NaN</td>\n",
       "      <td>66</td>\n",
       "      <td>75000</td>\n",
       "      <td>Philipp Lahm</td>\n",
       "      <td>3-4-3◆</td>\n",
       "      <td>Florian Meyer</td>\n",
       "      <td>Match Report</td>\n",
       "      <td>NaN</td>\n",
       "    </tr>\n",
       "  </tbody>\n",
       "</table>\n",
       "</div>"
      ],
      "text/plain": [
       "        Date           Time          Comp         Round  Day Venue Result  \\\n",
       "0 2015-08-01  20:30 (19:30)  DFL-Supercup  DFL-Supercup  Sat  Away      D   \n",
       "1 2015-08-09  16:00 (15:00)     DFB-Pokal   First round  Sun  Away      W   \n",
       "2 2015-08-14  20:30 (19:30)    Bundesliga   Matchweek 1  Fri  Home      W   \n",
       "3 2015-08-22  15:30 (14:30)    Bundesliga   Matchweek 2  Sat  Away      W   \n",
       "4 2015-08-29  18:30 (17:30)    Bundesliga   Matchweek 3  Sat  Home      W   \n",
       "\n",
       "      GF     GA      Opponent   xG  xGA Poss Attendance       Captain  \\\n",
       "0  1 (4)  1 (5)     Wolfsburg  NaN  NaN   55      30000  Philipp Lahm   \n",
       "1      3      1     Nöttingen  NaN  NaN  NaN      29486  Philipp Lahm   \n",
       "2      5      0  Hamburger SV  NaN  NaN   77      75000  Philipp Lahm   \n",
       "3      2      1    Hoffenheim  NaN  NaN   73      30150  Philipp Lahm   \n",
       "4      3      0    Leverkusen  NaN  NaN   66      75000  Philipp Lahm   \n",
       "\n",
       "  Formation          Referee  Match Report Notes  \n",
       "0   4-1-4-1      Marco Fritz  Match Report   NaN  \n",
       "1     3-4-3    Robert Kampka  Match Report   NaN  \n",
       "2   4-1-4-1  Bastian Dankert  Match Report   NaN  \n",
       "3    3-4-3◆   Tobias Stieler  Match Report   NaN  \n",
       "4    3-4-3◆    Florian Meyer  Match Report   NaN  "
      ]
     },
     "execution_count": 3,
     "metadata": {},
     "output_type": "execute_result"
    }
   ],
   "source": [
    "df.head()"
   ]
  },
  {
   "cell_type": "code",
   "execution_count": 4,
   "id": "1ec7fb95-518e-4d13-834e-c71faf296ad4",
   "metadata": {},
   "outputs": [
    {
     "name": "stdout",
     "output_type": "stream",
     "text": [
      "<class 'pandas.core.frame.DataFrame'>\n",
      "RangeIndex: 498 entries, 0 to 497\n",
      "Data columns (total 19 columns):\n",
      " #   Column        Non-Null Count  Dtype         \n",
      "---  ------        --------------  -----         \n",
      " 0   Date          498 non-null    datetime64[ns]\n",
      " 1   Time          491 non-null    object        \n",
      " 2   Comp          498 non-null    object        \n",
      " 3   Round         498 non-null    object        \n",
      " 4   Day           498 non-null    object        \n",
      " 5   Venue         498 non-null    object        \n",
      " 6   Result        483 non-null    object        \n",
      " 7   GF            483 non-null    object        \n",
      " 8   GA            483 non-null    object        \n",
      " 9   Opponent      498 non-null    object        \n",
      " 10  xG            337 non-null    object        \n",
      " 11  xGA           337 non-null    object        \n",
      " 12  Poss          475 non-null    object        \n",
      " 13  Attendance    403 non-null    object        \n",
      " 14  Captain       483 non-null    object        \n",
      " 15  Formation     483 non-null    object        \n",
      " 16  Referee       483 non-null    object        \n",
      " 17  Match Report  498 non-null    object        \n",
      " 18  Notes         41 non-null     object        \n",
      "dtypes: datetime64[ns](1), object(18)\n",
      "memory usage: 74.0+ KB\n"
     ]
    }
   ],
   "source": [
    "df.info()"
   ]
  },
  {
   "cell_type": "markdown",
   "id": "bf15c635-5ac1-4def-a2d8-cc7f1e0d6230",
   "metadata": {},
   "source": [
    "---"
   ]
  },
  {
   "cell_type": "markdown",
   "id": "ef25c9a4-bf0b-4c2d-96ee-15cf70d9e659",
   "metadata": {},
   "source": [
    "# Performance Analysis"
   ]
  },
  {
   "cell_type": "markdown",
   "id": "cb12ef47-40ee-42e2-8218-ad86363df05b",
   "metadata": {},
   "source": [
    "As an initial analysis, we look at just Bundesliga fixtures, and calculate 10-match rolling points averages. We also add dates that new managers came in, looking at the period from Niko Kovac onwards."
   ]
  },
  {
   "cell_type": "code",
   "execution_count": 5,
   "id": "0035fe4a-adaf-4552-935c-c3eb72a3a5a1",
   "metadata": {},
   "outputs": [],
   "source": [
    "# Add numeric column for points from result:\n",
    "df[\"Points\"] = df[\"Result\"].map({\"W\":3, \"D\":1, \"L\":0})\n",
    "\n",
    "# Create a data frame with 10-match rolling points average and date of match:\n",
    "df_plot = pd.DataFrame({\n",
    "    \"Date\": df[df[\"Comp\"] == \"Bundesliga\"][\"Date\"],\n",
    "    \"Points\": df[df[\"Comp\"] == \"Bundesliga\"][\"Points\"].rolling(window=10).mean()\n",
    "}).dropna().reset_index(drop=True)"
   ]
  },
  {
   "cell_type": "code",
   "execution_count": 6,
   "id": "d30da4ce-2412-4d90-9993-0eb18abe745b",
   "metadata": {},
   "outputs": [
    {
     "data": {
      "image/png": "[encoded data removed]",
      "text/plain": [
       "<Figure size 1000x600 with 1 Axes>"
      ]
     },
     "metadata": {},
     "output_type": "display_data"
    }
   ],
   "source": [
    "managers = {\n",
    "    \"Thomas Tuchel\": \"2023-03-25\",\n",
    "    \"Julian Nagelsmann\": \"2021-07-01\",\n",
    "    \"Hansi Flick\": \"2019-11-03\",\n",
    "    \"Niko Kovac\": \"2018-07-01\"\n",
    "}\n",
    "\n",
    "seasons = {\n",
    "    \"2018/19\": [\"2018-08-24\", \"2019-05-18\"],\n",
    "    \"2019/20 pre-covid\": [\"2019-08-16\", \"2020-03-08\"],\n",
    "    \"2019/20 post-covid\": [\"2020-05-16\", \"2020-06-27\"],\n",
    "    \"2020/21\": [\"2020-09-18\", \"2021-05-22\"],\n",
    "    \"2021/22\": [\"2021-08-13\", \"2022-05-14\"],\n",
    "    \"2022/23\": [\"2022-08-05\", \"2023-05-07\"],\n",
    "    \"2023/24\": [\"2023-08-18\", \"2024-02-14\"]\n",
    "}\n",
    "\n",
    "breaks = {\n",
    "    \"2023 off-season\": [\"2023-05-07\", \"2023-08-18\"],\n",
    "    \"2022 off-season\": [\"2022-05-14\", \"2022-08-05\"],\n",
    "    \"2021 off-season\": [\"2021-05-22\", \"2021-08-13\"],\n",
    "    \"2020 off-season\": [\"2020-06-27\", \"2020-09-18\"],\n",
    "    \"COVID\": [\"2020-03-08\", \"2020-05-16\"],\n",
    "    \"2019 off-season\": [\"2019-05-18\", \"2019-08-16\"]\n",
    "}\n",
    "\n",
    "# Plot results, with key dates added:\n",
    "f,a = plt.subplots(figsize=(10,6))\n",
    "\n",
    "for name, date in seasons.items():\n",
    "    season = df_plot[(df_plot[\"Date\"] > pd.to_datetime(date[0])) & (df_plot[\"Date\"] < pd.to_datetime(date[1]))]\n",
    "    sns.lineplot(season, x=\"Date\", y=\"Points\", color=\"#CC0000\", ax=a, err_style=None)\n",
    "\n",
    "for name, date in managers.items():\n",
    "    plt.axvline(x=pd.to_datetime(date), color=\"black\")\n",
    "    plt.text(x=pd.to_datetime(date) + pd.to_timedelta(14, unit=\"days\"), y=1.1, s=name, bbox={\"facecolor\":'white', \"edgecolor\":'black'})\n",
    "\n",
    "for reason, date in breaks.items():\n",
    "    plt.axvspan(xmin=pd.to_datetime(date[0]), xmax=pd.to_datetime(date[1]), alpha=0.05, color=\"#CC0000\")\n",
    "    if reason == \"COVID\":\n",
    "        plt.text(x=pd.to_datetime(date[0]) + pd.to_timedelta(21, unit=\"days\"), y=2, s=reason, rotation=90, zorder=2, color=\"gray\")\n",
    "    \n",
    "plt.yticks([1,2,3])\n",
    "plt.ylabel(\"10-Match Rolling Points Average\")\n",
    "plt.xlabel(\"Time\")\n",
    "plt.suptitle(\"Performance of Recent Bayern Munich Managers\", fontsize=16)\n",
    "plt.title(\"Using 10-Match Rolling Average of Points\", fontsize=10, y=1.02)\n",
    "    \n",
    "plt.show()"
   ]
  }
 ],
 "metadata": {
  "kernelspec": {
   "display_name": "Python 3 (ipykernel)",
   "language": "python",
   "name": "python3"
  },
  "language_info": {
   "codemirror_mode": {
    "name": "ipython",
    "version": 3
   },
   "file_extension": ".py",
   "mimetype": "text/x-python",
   "name": "python",
   "nbconvert_exporter": "python",
   "pygments_lexer": "ipython3",
   "version": "3.10.12"
  }
 },
 "nbformat": 4,
 "nbformat_minor": 5
}
